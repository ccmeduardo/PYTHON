{
  "nbformat": 4,
  "nbformat_minor": 0,
  "metadata": {
    "colab": {
      "provenance": [],
      "authorship_tag": "ABX9TyPneuH02iCehAWtiFB/fEif",
      "include_colab_link": true
    },
    "kernelspec": {
      "name": "python3",
      "display_name": "Python 3"
    },
    "language_info": {
      "name": "python"
    }
  },
  "cells": [
    {
      "cell_type": "markdown",
      "metadata": {
        "id": "view-in-github",
        "colab_type": "text"
      },
      "source": [
        "<a href=\"https://colab.research.google.com/github/ccmeduardo/PYTHON/blob/main/aulapython.ipynb\" target=\"_parent\"><img src=\"https://colab.research.google.com/assets/colab-badge.svg\" alt=\"Open In Colab\"/></a>"
      ]
    },
    {
      "cell_type": "markdown",
      "source": [
        "\n",
        "#**Aula 1**🪐🤏🏻🫧\n"
      ],
      "metadata": {
        "id": "9kckaM7uhluZ"
      }
    },
    {
      "cell_type": "code",
      "source": [
        "print(\"I competição de programação da Start\")\n",
        "ano = \"IX\"\n",
        "print(f\"{ano} competição de progamação da Start\")"
      ],
      "metadata": {
        "colab": {
          "base_uri": "https://localhost:8080/"
        },
        "id": "a2n98F5TiAj_",
        "outputId": "5ee9d7cb-5771-486d-d887-53310fb31048"
      },
      "execution_count": null,
      "outputs": [
        {
          "output_type": "stream",
          "name": "stdout",
          "text": [
            "I competição de programação da Start\n",
            "IX competição de progamação da Start\n"
          ]
        }
      ]
    },
    {
      "cell_type": "markdown",
      "source": [
        "#**Aula 2**🦕🦖☄️"
      ],
      "metadata": {
        "id": "DN966u3ioO-j"
      }
    },
    {
      "cell_type": "code",
      "source": [
        "livro_ficcao = 8\n",
        "livro_n_ficcao = 10\n",
        "livro_infantil = 6\n",
        "pontos_rodrigo = livro_ficcao + livro_n_ficcao + livro_infantil\n",
        "pontos_ana =  2 * livro_ficcao + 5 * livro_infantil\n",
        "pontos_totais = pontos_rodrigo + pontos_ana\n",
        "print(f\"Os pontos totais do Rodrigo são {pontos_rodrigo}\")\n",
        "print(f\"Os pontos totais do Ana são {pontos_ana}\")\n",
        "print(f\"Os pontos totais do Rodrigo e da Ana são {pontos_totais}\")"
      ],
      "metadata": {
        "id": "ACV3I0K1oPIa",
        "outputId": "f3587157-e7c9-4a2e-8dad-fdd2ee612dc1",
        "colab": {
          "base_uri": "https://localhost:8080/"
        }
      },
      "execution_count": null,
      "outputs": [
        {
          "output_type": "stream",
          "name": "stdout",
          "text": [
            "Os pontos totais do Rodrigo são 24\n",
            "Os pontos totais do Ana são 46\n",
            "Os pontos totais do Rodrigo e da Ana são 70\n"
          ]
        }
      ]
    },
    {
      "cell_type": "markdown",
      "source": [
        "#**Aula 3 Tabuada**⛪️🤍🇪"
      ],
      "metadata": {
        "id": "SUiWjjH8r2nU"
      }
    },
    {
      "cell_type": "code",
      "source": [
        "def tabuada(numero):\n",
        "    for contador in range(1, 11):  # Gera números de 1 a 10\n",
        "        print(f\"{numero} x {contador} = {numero * contador}\")\n",
        "numero = int(input(\"Digite um número para ver sua tabuada: \"))\n",
        "tabuada(numero)"
      ],
      "metadata": {
        "id": "8FbmfETJsY16",
        "collapsed": true
      },
      "execution_count": null,
      "outputs": []
    },
    {
      "cell_type": "markdown",
      "source": [
        "#**Aula 4 IMC**🪢⚜️💕"
      ],
      "metadata": {
        "id": "ghhh2bl-uu-F"
      }
    },
    {
      "cell_type": "code",
      "source": [
        "peso = float(input(\"Digite seu peso (em kg): \"))\n",
        "altura = float(input(\"Digite sua altura (em metros): \"))\n",
        "imc = peso / (altura ** 2)\n",
        "print(f\"\\nSeu IMC é: {imc:.2f}\")\n",
        "if imc < 18.5:\n",
        "    print(\"Você está abaixo do peso.\")\n",
        "elif 18.5 <= imc < 25:\n",
        "    print(\"Você está no peso ideal.\")\n",
        "elif 25 <= imc < 30:\n",
        "    print(\"Você está com sobrepeso.\")\n",
        "else:\n",
        "    print(\"Você está acima do peso.\")"
      ],
      "metadata": {
        "id": "8ojaFTRQuvNB",
        "outputId": "0e80131d-0fe1-45be-f416-11dc1cc309e8",
        "colab": {
          "base_uri": "https://localhost:8080/"
        }
      },
      "execution_count": 16,
      "outputs": [
        {
          "output_type": "stream",
          "name": "stdout",
          "text": [
            "Digite seu peso (em kg): 49\n",
            "Digite sua altura (em metros): 1.67\n",
            "\n",
            "Seu IMC é: 17.57\n",
            "Você está abaixo do peso.\n"
          ]
        }
      ]
    }
  ]
}